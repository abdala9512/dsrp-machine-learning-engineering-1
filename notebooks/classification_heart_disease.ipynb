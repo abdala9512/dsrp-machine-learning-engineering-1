{
 "cells": [
  {
   "cell_type": "markdown",
   "id": "d91fe911-733d-4349-90d3-c36ead25027f",
   "metadata": {},
   "source": [
    "# Modelos de Clasificación"
   ]
  },
  {
   "cell_type": "code",
   "execution_count": null,
   "id": "dd51dfd6-f204-4716-9375-8f81ced491f8",
   "metadata": {},
   "outputs": [],
   "source": []
  }
 ],
 "metadata": {
  "kernelspec": {
   "display_name": "",
   "name": ""
  },
  "language_info": {
   "name": ""
  }
 },
 "nbformat": 4,
 "nbformat_minor": 5
}
